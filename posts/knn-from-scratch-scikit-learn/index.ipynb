{
 "cells": [
  {
   "cell_type": "raw",
   "id": "aab564cd",
   "metadata": {},
   "source": [
    "---\n",
    "title: Predict diabetes using k-NN from scratch and scikit-learn\n",
    "description: Learn the k-Nearest Neighbors algorithm with me with a practical application on a dataset with diabetes patients   \n",
    "date: \"2023-03-01\"\n",
    "categories:\n",
    "  - \"Machine learning\"\n",
    "format: hugo-md\n",
    "showTableOfContents: true\n",
    "images:\n",
    "  - /posts/knn-from-scratch-scikit-learn/index_files/card.jpg\n",
    "aliases:\n",
    "  - /knn-from-scratch-scikit-learn\n",
    "---"
   ]
  },
  {
   "cell_type": "markdown",
   "id": "1da9f778",
   "metadata": {},
   "source": [
    "## Preface\n",
    "\n",
    "In the past few months, I’ve been learning machine learning via the [IBM Data Science specialization](https://www.coursera.org/professional-certificates/ibm-data-science) on Coursera. It’s been an exciting experience, having learned about many topics I’ve never dabbled in before. I could glide through most of the courses in the specialization because I am a software engineer with over a decade of experience. This meant that, for me, the real learning started in the last few courses. Learning some rudimentary machine learning has been exciting, so I decided to document what I know and how I understand things.\n",
    "\n",
    "Therefore, a fair warning: I am an absolute machine learning newbie. I am writing this primarily for myself and someone in a similar boat. There might be some stuff that’s wrong here. If you see any, **please** let me know, so I can fix my understanding.\n",
    " \n",
    "One of the first classification algorithms I learned was k-Nearest Neighbors (k-NN). When I discovered it, I found it really cool because it can do some legit classification while being an algorithm that fits within 100 lines of code. As an ML newbie, I find this fascinating. With the newfound excitement from learning k-NN, I decided to look deeper into it, find a dataset, do some feature engineering, apply k-NN, and assess its performance.\n",
    "\n",
    "Before we dive into the dataset, I want to discuss the theory of the k-Nearest Neighbors (k-NN) algorithm and its inner workings."
   ]
  },
  {
   "cell_type": "markdown",
   "id": "ced2542a",
   "metadata": {},
   "source": [
    "## k-Nearest Neighbors\n",
    "\n",
    "Let's take an imaginary dataset with cars, with three columns where two are features (top speed and horsepower) and the target (class):"
   ]
  },
  {
   "cell_type": "code",
   "execution_count": 71,
   "id": "08506f8f",
   "metadata": {},
   "outputs": [
    {
     "data": {
      "text/html": [
       "<div>\n",
       "<style scoped>\n",
       "    .dataframe tbody tr th:only-of-type {\n",
       "        vertical-align: middle;\n",
       "    }\n",
       "\n",
       "    .dataframe tbody tr th {\n",
       "        vertical-align: top;\n",
       "    }\n",
       "\n",
       "    .dataframe thead th {\n",
       "        text-align: right;\n",
       "    }\n",
       "</style>\n",
       "<table border=\"1\" class=\"dataframe\">\n",
       "  <thead>\n",
       "    <tr style=\"text-align: right;\">\n",
       "      <th></th>\n",
       "      <th>Top Speed (mph)</th>\n",
       "      <th>Horsepower (hp)</th>\n",
       "      <th>Class</th>\n",
       "    </tr>\n",
       "  </thead>\n",
       "  <tbody>\n",
       "    <tr>\n",
       "      <th>0</th>\n",
       "      <td>205</td>\n",
       "      <td>600</td>\n",
       "      <td>Hypercar</td>\n",
       "    </tr>\n",
       "    <tr>\n",
       "      <th>1</th>\n",
       "      <td>217</td>\n",
       "      <td>710</td>\n",
       "      <td>Hypercar</td>\n",
       "    </tr>\n",
       "    <tr>\n",
       "      <th>2</th>\n",
       "      <td>211</td>\n",
       "      <td>650</td>\n",
       "      <td>Hypercar</td>\n",
       "    </tr>\n",
       "    <tr>\n",
       "      <th>3</th>\n",
       "      <td>186</td>\n",
       "      <td>460</td>\n",
       "      <td>Supercar</td>\n",
       "    </tr>\n",
       "    <tr>\n",
       "      <th>4</th>\n",
       "      <td>202</td>\n",
       "      <td>500</td>\n",
       "      <td>Supercar</td>\n",
       "    </tr>\n",
       "    <tr>\n",
       "      <th>5</th>\n",
       "      <td>187</td>\n",
       "      <td>493</td>\n",
       "      <td>Supercar</td>\n",
       "    </tr>\n",
       "    <tr>\n",
       "      <th>6</th>\n",
       "      <td>183</td>\n",
       "      <td>420</td>\n",
       "      <td>Supercar</td>\n",
       "    </tr>\n",
       "    <tr>\n",
       "      <th>7</th>\n",
       "      <td>174</td>\n",
       "      <td>365</td>\n",
       "      <td>Supercar</td>\n",
       "    </tr>\n",
       "    <tr>\n",
       "      <th>8</th>\n",
       "      <td>181</td>\n",
       "      <td>414</td>\n",
       "      <td>Supercar</td>\n",
       "    </tr>\n",
       "    <tr>\n",
       "      <th>9</th>\n",
       "      <td>155</td>\n",
       "      <td>227</td>\n",
       "      <td>Luxury car</td>\n",
       "    </tr>\n",
       "    <tr>\n",
       "      <th>10</th>\n",
       "      <td>155</td>\n",
       "      <td>255</td>\n",
       "      <td>Luxury car</td>\n",
       "    </tr>\n",
       "    <tr>\n",
       "      <th>11</th>\n",
       "      <td>150</td>\n",
       "      <td>240</td>\n",
       "      <td>Luxury car</td>\n",
       "    </tr>\n",
       "    <tr>\n",
       "      <th>12</th>\n",
       "      <td>149</td>\n",
       "      <td>335</td>\n",
       "      <td>Luxury car</td>\n",
       "    </tr>\n",
       "    <tr>\n",
       "      <th>13</th>\n",
       "      <td>147</td>\n",
       "      <td>290</td>\n",
       "      <td>Luxury car</td>\n",
       "    </tr>\n",
       "    <tr>\n",
       "      <th>14</th>\n",
       "      <td>155</td>\n",
       "      <td>330</td>\n",
       "      <td>Luxury car</td>\n",
       "    </tr>\n",
       "    <tr>\n",
       "      <th>15</th>\n",
       "      <td>126</td>\n",
       "      <td>240</td>\n",
       "      <td>Economy car</td>\n",
       "    </tr>\n",
       "    <tr>\n",
       "      <th>16</th>\n",
       "      <td>130</td>\n",
       "      <td>260</td>\n",
       "      <td>Economy car</td>\n",
       "    </tr>\n",
       "    <tr>\n",
       "      <th>17</th>\n",
       "      <td>122</td>\n",
       "      <td>210</td>\n",
       "      <td>Economy car</td>\n",
       "    </tr>\n",
       "    <tr>\n",
       "      <th>18</th>\n",
       "      <td>90</td>\n",
       "      <td>150</td>\n",
       "      <td>Economy car</td>\n",
       "    </tr>\n",
       "    <tr>\n",
       "      <th>19</th>\n",
       "      <td>95</td>\n",
       "      <td>170</td>\n",
       "      <td>Economy car</td>\n",
       "    </tr>\n",
       "    <tr>\n",
       "      <th>20</th>\n",
       "      <td>110</td>\n",
       "      <td>200</td>\n",
       "      <td>Economy car</td>\n",
       "    </tr>\n",
       "    <tr>\n",
       "      <th>21</th>\n",
       "      <td>112</td>\n",
       "      <td>180</td>\n",
       "      <td>Economy car</td>\n",
       "    </tr>\n",
       "    <tr>\n",
       "      <th>22</th>\n",
       "      <td>109</td>\n",
       "      <td>190</td>\n",
       "      <td>Economy car</td>\n",
       "    </tr>\n",
       "    <tr>\n",
       "      <th>23</th>\n",
       "      <td>118</td>\n",
       "      <td>170</td>\n",
       "      <td>Economy car</td>\n",
       "    </tr>\n",
       "    <tr>\n",
       "      <th>24</th>\n",
       "      <td>121</td>\n",
       "      <td>220</td>\n",
       "      <td>Economy car</td>\n",
       "    </tr>\n",
       "    <tr>\n",
       "      <th>25</th>\n",
       "      <td>130</td>\n",
       "      <td>190</td>\n",
       "      <td>Economy car</td>\n",
       "    </tr>\n",
       "  </tbody>\n",
       "</table>\n",
       "</div>"
      ],
      "text/plain": [
       "    Top Speed (mph)  Horsepower (hp)        Class\n",
       "0               205              600     Hypercar\n",
       "1               217              710     Hypercar\n",
       "2               211              650     Hypercar\n",
       "3               186              460     Supercar\n",
       "4               202              500     Supercar\n",
       "5               187              493     Supercar\n",
       "6               183              420     Supercar\n",
       "7               174              365     Supercar\n",
       "8               181              414     Supercar\n",
       "9               155              227   Luxury car\n",
       "10              155              255   Luxury car\n",
       "11              150              240   Luxury car\n",
       "12              149              335   Luxury car\n",
       "13              147              290   Luxury car\n",
       "14              155              330   Luxury car\n",
       "15              126              240  Economy car\n",
       "16              130              260  Economy car\n",
       "17              122              210  Economy car\n",
       "18               90              150  Economy car\n",
       "19               95              170  Economy car\n",
       "20              110              200  Economy car\n",
       "21              112              180  Economy car\n",
       "22              109              190  Economy car\n",
       "23              118              170  Economy car\n",
       "24              121              220  Economy car\n",
       "25              130              190  Economy car"
      ]
     },
     "execution_count": 71,
     "metadata": {},
     "output_type": "execute_result"
    }
   ],
   "source": [
    "import pandas as pd\n",
    "\n",
    "data = {\n",
    "    'Top Speed (mph)': [205, 217, 211, 186, 202, 187, 183, 174, 181, 155, 155, 150, 149, 147, 155, 126, 130, 122, 90, 95, 110, 112, 109, 118, 121, 130],\n",
    "    'Horsepower (hp)': [600, 710, 650, 460, 500, 493, 420, 365, 414, 227, 255, 240, 335, 290, 330, 240, 260, 210, 150, 170, 200, 180, 190, 170, 220, 190],\n",
    "    'Class': ['Hypercar', 'Hypercar', 'Hypercar', 'Supercar', 'Supercar', 'Supercar', 'Supercar', 'Supercar', 'Supercar', 'Luxury car', 'Luxury car', 'Luxury car', 'Luxury car', 'Luxury car', 'Luxury car', 'Economy car', 'Economy car', 'Economy car', 'Economy car', 'Economy car', 'Economy car', 'Economy car', 'Economy car', 'Economy car', 'Economy car', 'Economy car']\n",
    "}\n",
    "\n",
    "cars_df = pd.DataFrame(data)\n",
    "cars_df"
   ]
  },
  {
   "cell_type": "markdown",
   "id": "8a128b01",
   "metadata": {},
   "source": [
    "We can observe that the speed and horsepower affect the class of the car. If we create a scatterplot of the data we'll see how they're grouped on the plot:"
   ]
  },
  {
   "cell_type": "code",
   "execution_count": 459,
   "id": "29c019f0",
   "metadata": {},
   "outputs": [
    {
     "data": {
      "image/png": "[encoded data removed]",
      "text/plain": [
       "<Figure size 800x550 with 1 Axes>"
      ]
     },
     "metadata": {},
     "output_type": "display_data"
    }
   ],
   "source": [
    "import seaborn as sns\n",
    "\n",
    "sns.scatterplot(x=cars_df['Top Speed (mph)'], y=cars_df['Horsepower (hp)'], hue=cars_df['Class']);"
   ]
  },
  {
   "cell_type": "markdown",
   "id": "4d009987",
   "metadata": {},
   "source": [
    "There's a correlation between the top speed, the horsepower, and the class of the car. Now, if we get a car whose top speed is 140mph, with 300hp, would that be an economy or luxury car? This is where k-NN can help.\n",
    "\n",
    "The k-NN algorithm is a voting system where the majority class label determines the class label of a new data point among its nearest 'k' neighbors, where k is an integer in the feature space. Using the above example of a car with a top speed of 140mph and 300hp, k-NN would measure the distance of the newly added point to its nearest neighbors. Once the algorithm finds the K closest points, it takes the prevalent category amongst those nearest points and set it to the newly added point. When setting K, a good starting point is usually the square root of the features used from the dataset. Generally, it's best if the K number is assigned to an odd number, so the algorithm doesn't run into a tie.\n",
    "\n",
    "Now, you will see that I refer to k-NN as an algorithm and not an ML model. That's because k-NN is a non-parametric and lazy learning algorithm. In machine learning, lazy learning is a method in which the generalization of the training data is delayed until a query is made to the system. As we will see soon, there's no model that we will train with k-NN - it's merely an algorithm that will run on the training data and apply a local function (distance between points) to determine the target class.\n",
    "\n",
    "### The math behind k-NN\n",
    "\n",
    "The distance is the next important aspect: what is actually a distance between two points, or a vector, and other points/vectors? To calculate the distance between points we use what's called an Euclidean distance. If `a` and `b` are points on a two-dimensional plane, their Euclidean distance will be:\n",
    "\n",
    "$$\n",
    "d(a,b) = \\sqrt{(a_1 - b_1)^2 + (a_2 - b_2)^2}\n",
    "$$\n",
    "\n",
    "For those that do not like mathematial notation, this basically means the square root of the squares of the differences between the two points on the plane. In Python, this would be:\n",
    "\n",
    "```python\n",
    "def euclidean_distance(a,b):\n",
    "    # Two points, with their x and y coordinates\n",
    "    a = [1,2]\n",
    "    b = [3,4]\n",
    "\n",
    "    # Calculate the squared distance\n",
    "    squared_distance = (a[0] - b[0])**2 + (a[1] - b[1])**2\n",
    "\n",
    "    # Return the root of the squared distance\n",
    "    return math.sqrt(squared_distance)\n",
    "```\n",
    "\n",
    "When I read this the first time, I thought \"why are we squaring the differences in the points if we're applying the square root later?\". The reason is that by applying the square and then the square root them it's like taking the absolute value of each point - in other words, we gracefully handle negative points, so the distance is always a positive number (a negative distance is not really a thing).\n",
    "\n",
    "And that's all the math that k-NN requires. Let's go back to a real dataset and apply k-NN to it."
   ]
  },
  {
   "cell_type": "markdown",
   "id": "8a26c882",
   "metadata": {},
   "source": [
    "## Patients' data & diabetes outcome\n",
    "\n",
    "The dataset I found is [the Diabetes Dataset](https://www.kaggle.com/datasets/mathchi/diabetes-data-set) from Kaggle. It contains fetures regarding the patient's health status, with the diabetes outcome as the dependent variable. The goal is to implement our own k-NN classifier and then use it on the dataset to predict diabetes outcomes in patients. Afterwards, we will evaluate the classifier's performance relative to the one that's shipped with scikit-learn.\n",
    "\n",
    "First, we will load the data, explore it, do a bit of feature engineering, and then we'll move on to building the solution."
   ]
  },
  {
   "cell_type": "code",
   "execution_count": 478,
   "id": "14f59ea0",
   "metadata": {},
   "outputs": [],
   "source": [
    "df = pd.read_csv('diabetes.csv')"
   ]
  },
  {
   "cell_type": "markdown",
   "id": "e7f0ebc7",
   "metadata": {},
   "source": [
    "First, we will load the dataset and check its first columns just to get a feel for it:"
   ]
  },
  {
   "cell_type": "code",
   "execution_count": 479,
   "id": "823f247d",
   "metadata": {},
   "outputs": [
    {
     "data": {
      "text/html": [
       "<div>\n",
       "<style scoped>\n",
       "    .dataframe tbody tr th:only-of-type {\n",
       "        vertical-align: middle;\n",
       "    }\n",
       "\n",
       "    .dataframe tbody tr th {\n",
       "        vertical-align: top;\n",
       "    }\n",
       "\n",
       "    .dataframe thead th {\n",
       "        text-align: right;\n",
       "    }\n",
       "</style>\n",
       "<table border=\"1\" class=\"dataframe\">\n",
       "  <thead>\n",
       "    <tr style=\"text-align: right;\">\n",
       "      <th></th>\n",
       "      <th>Pregnancies</th>\n",
       "      <th>Glucose</th>\n",
       "      <th>BloodPressure</th>\n",
       "      <th>SkinThickness</th>\n",
       "      <th>Insulin</th>\n",
       "      <th>BMI</th>\n",
       "      <th>DiabetesPedigreeFunction</th>\n",
       "      <th>Age</th>\n",
       "      <th>Outcome</th>\n",
       "    </tr>\n",
       "  </thead>\n",
       "  <tbody>\n",
       "    <tr>\n",
       "      <th>0</th>\n",
       "      <td>6</td>\n",
       "      <td>148</td>\n",
       "      <td>72</td>\n",
       "      <td>35</td>\n",
       "      <td>0</td>\n",
       "      <td>33.6</td>\n",
       "      <td>0.627</td>\n",
       "      <td>50</td>\n",
       "      <td>1</td>\n",
       "    </tr>\n",
       "    <tr>\n",
       "      <th>1</th>\n",
       "      <td>1</td>\n",
       "      <td>85</td>\n",
       "      <td>66</td>\n",
       "      <td>29</td>\n",
       "      <td>0</td>\n",
       "      <td>26.6</td>\n",
       "      <td>0.351</td>\n",
       "      <td>31</td>\n",
       "      <td>0</td>\n",
       "    </tr>\n",
       "    <tr>\n",
       "      <th>2</th>\n",
       "      <td>8</td>\n",
       "      <td>183</td>\n",
       "      <td>64</td>\n",
       "      <td>0</td>\n",
       "      <td>0</td>\n",
       "      <td>23.3</td>\n",
       "      <td>0.672</td>\n",
       "      <td>32</td>\n",
       "      <td>1</td>\n",
       "    </tr>\n",
       "    <tr>\n",
       "      <th>3</th>\n",
       "      <td>1</td>\n",
       "      <td>89</td>\n",
       "      <td>66</td>\n",
       "      <td>23</td>\n",
       "      <td>94</td>\n",
       "      <td>28.1</td>\n",
       "      <td>0.167</td>\n",
       "      <td>21</td>\n",
       "      <td>0</td>\n",
       "    </tr>\n",
       "    <tr>\n",
       "      <th>4</th>\n",
       "      <td>0</td>\n",
       "      <td>137</td>\n",
       "      <td>40</td>\n",
       "      <td>35</td>\n",
       "      <td>168</td>\n",
       "      <td>43.1</td>\n",
       "      <td>2.288</td>\n",
       "      <td>33</td>\n",
       "      <td>1</td>\n",
       "    </tr>\n",
       "  </tbody>\n",
       "</table>\n",
       "</div>"
      ],
      "text/plain": [
       "   Pregnancies  Glucose  BloodPressure  SkinThickness  Insulin   BMI  \\\n",
       "0            6      148             72             35        0  33.6   \n",
       "1            1       85             66             29        0  26.6   \n",
       "2            8      183             64              0        0  23.3   \n",
       "3            1       89             66             23       94  28.1   \n",
       "4            0      137             40             35      168  43.1   \n",
       "\n",
       "   DiabetesPedigreeFunction  Age  Outcome  \n",
       "0                     0.627   50        1  \n",
       "1                     0.351   31        0  \n",
       "2                     0.672   32        1  \n",
       "3                     0.167   21        0  \n",
       "4                     2.288   33        1  "
      ]
     },
     "execution_count": 479,
     "metadata": {},
     "output_type": "execute_result"
    }
   ],
   "source": [
    "df.head()"
   ]
  },
  {
   "cell_type": "markdown",
   "id": "bb95a193",
   "metadata": {},
   "source": [
    "The dataset has different columns, each one of them with continious numerical values. Let's see their types and `null` counts:"
   ]
  },
  {
   "cell_type": "code",
   "execution_count": 480,
   "id": "f1ee094a",
   "metadata": {},
   "outputs": [
    {
     "name": "stdout",
     "output_type": "stream",
     "text": [
      "<class 'pandas.core.frame.DataFrame'>\n",
      "RangeIndex: 768 entries, 0 to 767\n",
      "Data columns (total 9 columns):\n",
      " #   Column                    Non-Null Count  Dtype  \n",
      "---  ------                    --------------  -----  \n",
      " 0   Pregnancies               768 non-null    int64  \n",
      " 1   Glucose                   768 non-null    int64  \n",
      " 2   BloodPressure             768 non-null    int64  \n",
      " 3   SkinThickness             768 non-null    int64  \n",
      " 4   Insulin                   768 non-null    int64  \n",
      " 5   BMI                       768 non-null    float64\n",
      " 6   DiabetesPedigreeFunction  768 non-null    float64\n",
      " 7   Age                       768 non-null    int64  \n",
      " 8   Outcome                   768 non-null    int64  \n",
      "dtypes: float64(2), int64(7)\n",
      "memory usage: 54.1 KB\n"
     ]
    }
   ],
   "source": [
    "df.info()"
   ]
  },
  {
   "cell_type": "markdown",
   "id": "30e03ed4",
   "metadata": {},
   "source": [
    "The fact that every column has no null values is great. We can also see that each column contains numerical values, where two are `float64` and the rest are `int64`.\n",
    "\n",
    "Let's look at the column statistics:"
   ]
  },
  {
   "cell_type": "code",
   "execution_count": 481,
   "id": "c1107a4b",
   "metadata": {},
   "outputs": [
    {
     "data": {
      "text/html": [
       "<div>\n",
       "<style scoped>\n",
       "    .dataframe tbody tr th:only-of-type {\n",
       "        vertical-align: middle;\n",
       "    }\n",
       "\n",
       "    .dataframe tbody tr th {\n",
       "        vertical-align: top;\n",
       "    }\n",
       "\n",
       "    .dataframe thead th {\n",
       "        text-align: right;\n",
       "    }\n",
       "</style>\n",
       "<table border=\"1\" class=\"dataframe\">\n",
       "  <thead>\n",
       "    <tr style=\"text-align: right;\">\n",
       "      <th></th>\n",
       "      <th>Pregnancies</th>\n",
       "      <th>Glucose</th>\n",
       "      <th>BloodPressure</th>\n",
       "      <th>SkinThickness</th>\n",
       "      <th>Insulin</th>\n",
       "      <th>BMI</th>\n",
       "      <th>DiabetesPedigreeFunction</th>\n",
       "      <th>Age</th>\n",
       "      <th>Outcome</th>\n",
       "    </tr>\n",
       "  </thead>\n",
       "  <tbody>\n",
       "    <tr>\n",
       "      <th>count</th>\n",
       "      <td>768.000000</td>\n",
       "      <td>768.000000</td>\n",
       "      <td>768.000000</td>\n",
       "      <td>768.000000</td>\n",
       "      <td>768.000000</td>\n",
       "      <td>768.000000</td>\n",
       "      <td>768.000000</td>\n",
       "      <td>768.000000</td>\n",
       "      <td>768.000000</td>\n",
       "    </tr>\n",
       "    <tr>\n",
       "      <th>mean</th>\n",
       "      <td>3.845052</td>\n",
       "      <td>120.894531</td>\n",
       "      <td>69.105469</td>\n",
       "      <td>20.536458</td>\n",
       "      <td>79.799479</td>\n",
       "      <td>31.992578</td>\n",
       "      <td>0.471876</td>\n",
       "      <td>33.240885</td>\n",
       "      <td>0.348958</td>\n",
       "    </tr>\n",
       "    <tr>\n",
       "      <th>std</th>\n",
       "      <td>3.369578</td>\n",
       "      <td>31.972618</td>\n",
       "      <td>19.355807</td>\n",
       "      <td>15.952218</td>\n",
       "      <td>115.244002</td>\n",
       "      <td>7.884160</td>\n",
       "      <td>0.331329</td>\n",
       "      <td>11.760232</td>\n",
       "      <td>0.476951</td>\n",
       "    </tr>\n",
       "    <tr>\n",
       "      <th>min</th>\n",
       "      <td>0.000000</td>\n",
       "      <td>0.000000</td>\n",
       "      <td>0.000000</td>\n",
       "      <td>0.000000</td>\n",
       "      <td>0.000000</td>\n",
       "      <td>0.000000</td>\n",
       "      <td>0.078000</td>\n",
       "      <td>21.000000</td>\n",
       "      <td>0.000000</td>\n",
       "    </tr>\n",
       "    <tr>\n",
       "      <th>25%</th>\n",
       "      <td>1.000000</td>\n",
       "      <td>99.000000</td>\n",
       "      <td>62.000000</td>\n",
       "      <td>0.000000</td>\n",
       "      <td>0.000000</td>\n",
       "      <td>27.300000</td>\n",
       "      <td>0.243750</td>\n",
       "      <td>24.000000</td>\n",
       "      <td>0.000000</td>\n",
       "    </tr>\n",
       "    <tr>\n",
       "      <th>50%</th>\n",
       "      <td>3.000000</td>\n",
       "      <td>117.000000</td>\n",
       "      <td>72.000000</td>\n",
       "      <td>23.000000</td>\n",
       "      <td>30.500000</td>\n",
       "      <td>32.000000</td>\n",
       "      <td>0.372500</td>\n",
       "      <td>29.000000</td>\n",
       "      <td>0.000000</td>\n",
       "    </tr>\n",
       "    <tr>\n",
       "      <th>75%</th>\n",
       "      <td>6.000000</td>\n",
       "      <td>140.250000</td>\n",
       "      <td>80.000000</td>\n",
       "      <td>32.000000</td>\n",
       "      <td>127.250000</td>\n",
       "      <td>36.600000</td>\n",
       "      <td>0.626250</td>\n",
       "      <td>41.000000</td>\n",
       "      <td>1.000000</td>\n",
       "    </tr>\n",
       "    <tr>\n",
       "      <th>max</th>\n",
       "      <td>17.000000</td>\n",
       "      <td>199.000000</td>\n",
       "      <td>122.000000</td>\n",
       "      <td>99.000000</td>\n",
       "      <td>846.000000</td>\n",
       "      <td>67.100000</td>\n",
       "      <td>2.420000</td>\n",
       "      <td>81.000000</td>\n",
       "      <td>1.000000</td>\n",
       "    </tr>\n",
       "  </tbody>\n",
       "</table>\n",
       "</div>"
      ],
      "text/plain": [
       "       Pregnancies     Glucose  BloodPressure  SkinThickness     Insulin  \\\n",
       "count   768.000000  768.000000     768.000000     768.000000  768.000000   \n",
       "mean      3.845052  120.894531      69.105469      20.536458   79.799479   \n",
       "std       3.369578   31.972618      19.355807      15.952218  115.244002   \n",
       "min       0.000000    0.000000       0.000000       0.000000    0.000000   \n",
       "25%       1.000000   99.000000      62.000000       0.000000    0.000000   \n",
       "50%       3.000000  117.000000      72.000000      23.000000   30.500000   \n",
       "75%       6.000000  140.250000      80.000000      32.000000  127.250000   \n",
       "max      17.000000  199.000000     122.000000      99.000000  846.000000   \n",
       "\n",
       "              BMI  DiabetesPedigreeFunction         Age     Outcome  \n",
       "count  768.000000                768.000000  768.000000  768.000000  \n",
       "mean    31.992578                  0.471876   33.240885    0.348958  \n",
       "std      7.884160                  0.331329   11.760232    0.476951  \n",
       "min      0.000000                  0.078000   21.000000    0.000000  \n",
       "25%     27.300000                  0.243750   24.000000    0.000000  \n",
       "50%     32.000000                  0.372500   29.000000    0.000000  \n",
       "75%     36.600000                  0.626250   41.000000    1.000000  \n",
       "max     67.100000                  2.420000   81.000000    1.000000  "
      ]
     },
     "execution_count": 481,
     "metadata": {},
     "output_type": "execute_result"
    }
   ],
   "source": [
    "df.describe()"
   ]
  },
  {
   "cell_type": "markdown",
   "id": "6671fad5",
   "metadata": {},
   "source": [
    "### Cleaning zero values\n",
    "\n",
    "There are a few interesting bits in the table above:\n",
    "\n",
    "* we see patients whose `Glucose` measurements are zero, which makes no sense and we need to take care of\n",
    "* we can also observe patients whose `BloodPressure` measurement is zero\n",
    "* we can also observe patients whose `SkinThickness` measurement is zero\n",
    "* we can also observe patients whose `Insulin` measurement is zero\n",
    "* we can also observe patients whose `BMI` is also zero, which is plainly impossible\n",
    "\n",
    "Let's clean up these nonsensical values - we can replace the zeroes with the mean of each column:"
   ]
  },
  {
   "cell_type": "code",
   "execution_count": 482,
   "id": "93a834ae",
   "metadata": {},
   "outputs": [
    {
     "data": {
      "text/plain": [
       "Glucose          120.894531\n",
       "BloodPressure     69.105469\n",
       "SkinThickness     20.536458\n",
       "Insulin           79.799479\n",
       "BMI               31.992578\n",
       "dtype: float64"
      ]
     },
     "execution_count": 482,
     "metadata": {},
     "output_type": "execute_result"
    }
   ],
   "source": [
    "means = df.iloc[:, 1:6].mean()\n",
    "means"
   ]
  },
  {
   "cell_type": "code",
   "execution_count": 483,
   "id": "d67dd0c4",
   "metadata": {},
   "outputs": [],
   "source": [
    "nonzeros = list(df.columns[1:6])\n",
    "for column in nonzeros:\n",
    "    df[column] = df[column].replace(0, means[column])"
   ]
  },
  {
   "cell_type": "markdown",
   "id": "f6be4a96",
   "metadata": {},
   "source": [
    "We can see how the `min` values now changed:"
   ]
  },
  {
   "cell_type": "code",
   "execution_count": 484,
   "id": "058d4a5a",
   "metadata": {},
   "outputs": [
    {
     "data": {
      "text/plain": [
       "Pregnancies                  0.000\n",
       "Glucose                     44.000\n",
       "BloodPressure               24.000\n",
       "SkinThickness                7.000\n",
       "Insulin                     14.000\n",
       "BMI                         18.200\n",
       "DiabetesPedigreeFunction     0.078\n",
       "Age                         21.000\n",
       "Outcome                      0.000\n",
       "dtype: float64"
      ]
     },
     "execution_count": 484,
     "metadata": {},
     "output_type": "execute_result"
    }
   ],
   "source": [
    "df.min()"
   ]
  },
  {
   "cell_type": "markdown",
   "id": "a7f4d67d",
   "metadata": {},
   "source": [
    "Now that we cleaned up the zero values, let's look splitting our data into training and tests sets."
   ]
  },
  {
   "cell_type": "markdown",
   "id": "7446c189",
   "metadata": {},
   "source": [
    "## Data splitting\n",
    "\n",
    "Splitting the data into test and train data is an essential part of model buildling. Having the training data allows us to train our model, while the test data allows us to check the accuracy of the model. In other words, the test data allows us to see how our model will perform with out-of-sample data.\n",
    "\n",
    "Out-of-sample data is a fancy way of saying data that is not part of the training dataset.\n",
    "\n",
    "To split our data into training and test data, we can use `scikit-learn`'s `train_test_split` method."
   ]
  },
  {
   "cell_type": "code",
   "execution_count": 485,
   "id": "1db8ce2f",
   "metadata": {},
   "outputs": [],
   "source": [
    "X = df.iloc[:, 0:7].to_numpy()\n",
    "y = df.iloc[:, 8].to_numpy()"
   ]
  },
  {
   "cell_type": "code",
   "execution_count": 486,
   "id": "4d7c9470",
   "metadata": {},
   "outputs": [],
   "source": [
    "from sklearn.model_selection import train_test_split\n",
    "\n",
    "X_train, X_test, y_train, y_test = train_test_split(X, y, test_size=0.4)"
   ]
  },
  {
   "cell_type": "markdown",
   "id": "d7de12e6",
   "metadata": {},
   "source": [
    "The `train_test_split` method takes three immportant arguments:\n",
    "\n",
    "* the independent features, stored in the variable `X`\n",
    "* the target values, stored in the variable `y`\n",
    "* the test size as a float, which tells the method how big the test size should be\n",
    "\n",
    "Let's see how `train_test_split` has split our data here. Remember, the original dataset had 768 rows and 9 columns:"
   ]
  },
  {
   "cell_type": "code",
   "execution_count": 487,
   "id": "2a3c3bc8",
   "metadata": {},
   "outputs": [
    {
     "data": {
      "text/plain": [
       "(768, 9)"
      ]
     },
     "execution_count": 487,
     "metadata": {},
     "output_type": "execute_result"
    }
   ],
   "source": [
    "df.shape"
   ]
  },
  {
   "cell_type": "markdown",
   "id": "8114f233",
   "metadata": {},
   "source": [
    "Let's see the `shape` of the train and test data:"
   ]
  },
  {
   "cell_type": "code",
   "execution_count": 488,
   "id": "cf8a920d",
   "metadata": {},
   "outputs": [
    {
     "data": {
      "text/plain": [
       "(460, 7)"
      ]
     },
     "execution_count": 488,
     "metadata": {},
     "output_type": "execute_result"
    }
   ],
   "source": [
    "X_train.shape"
   ]
  },
  {
   "cell_type": "code",
   "execution_count": 489,
   "id": "b185cc8b",
   "metadata": {},
   "outputs": [
    {
     "data": {
      "text/plain": [
       "(308, 7)"
      ]
     },
     "execution_count": 489,
     "metadata": {},
     "output_type": "execute_result"
    }
   ],
   "source": [
    "X_test.shape"
   ]
  },
  {
   "cell_type": "markdown",
   "id": "8e8a182b",
   "metadata": {},
   "source": [
    "We can see that the data has been split to 60% training data and 40% test data, which is exactly what the `test_size` arguent instructed `train_test_split` to do (with its value 0.4).\n",
    "\n",
    "Now that our data is split, let's look into the problem of data scaling."
   ]
  },
  {
   "cell_type": "markdown",
   "id": "b74b4e1e",
   "metadata": {},
   "source": [
    "## Scaling our data\n",
    "\n",
    "As we already established in the short part on the backing theory, k-NN is an algorithm that calculates distances between points on a plane. Because it calculates distances, the algorithm will be sensitive to the larger range in which some of the features may have.\n",
    "\n",
    "Let's look at the different ranges of each feature in the dataset:"
   ]
  },
  {
   "cell_type": "code",
   "execution_count": 490,
   "id": "6b035d20",
   "metadata": {},
   "outputs": [
    {
     "data": {
      "image/png": "[encoded data removed]",
      "text/plain": [
       "<Figure size 1400x600 with 8 Axes>"
      ]
     },
     "metadata": {},
     "output_type": "display_data"
    }
   ],
   "source": [
    "plt.style.use('seaborn-v0_8')\n",
    "\n",
    "fig, axes = plt.subplots(2, 4, figsize=[14,6])\n",
    "\n",
    "pd.DataFrame.hist(df.drop('Outcome', axis=1), ax=axes);"
   ]
  },
  {
   "cell_type": "markdown",
   "id": "f04515f9",
   "metadata": {},
   "source": [
    "For example, let's take two 2D planes, where the frist one has `Pregnancies` as one axis and `SkinThickness` as the other, and the second plane has `Insulin` and `Glucose` as axes. Due to the ranges of the axes in the first plane being smaller than the second plane, k-NN will always give the distances of the second plane more significance. In other words, the values of the distances from the second plane will always have a higher absolute value, which will make k-NN bias towards the distances from the second plane.\n",
    "\n",
    "To remove this kind of bias, we need to scale our features.\n",
    "\n",
    "\n",
    "### Intro to scaling\n",
    "\n",
    "There are different ways to scale features, but I'd say exploring them is outside of the scope of this writeup. One has got to draw the line somewhere! To scale our features we will use the `preprocessing` module from `sklearn`. From the `preprocessing` module we will use the `StandardScaler` class - it's a utility class, which is a quick and easy way to perform standardization on an array-like dataset.\n",
    "\n",
    "Let's try to standardize all of our features and see their before- and after-standardization:"
   ]
  },
  {
   "cell_type": "code",
   "execution_count": 491,
   "id": "666a9d98",
   "metadata": {},
   "outputs": [
    {
     "data": {
      "image/png": "[encoded data removed]",
      "text/plain": [
       "<Figure size 1400x600 with 8 Axes>"
      ]
     },
     "metadata": {},
     "output_type": "display_data"
    }
   ],
   "source": [
    "from sklearn.preprocessing import StandardScaler\n",
    "\n",
    "fig, ax = plt.subplots(2, 4, figsize=[14,6])\n",
    "\n",
    "scaler = StandardScaler()\n",
    "features = df.iloc[:, 0:8]\n",
    "scaled_features = scaler.fit_transform(features)\n",
    "scaled_features_df = pd.DataFrame(scaled_features, columns=df.columns[0:8])\n",
    "scaled_features_df.hist(ax=ax);"
   ]
  },
  {
   "cell_type": "markdown",
   "id": "a9168421",
   "metadata": {},
   "source": [
    "What's interesting is that the histograms of the featuers before and after scaling look the same. This is exactly what we want - the scaled individual features are still distributed identically as before scaling, but all values are scaled down between -4 and 4, with some outliers. By standardizing the features here we make sure that some features won't have a greater effect on the model than others, due to their absolute values being larger than others."
   ]
  },
  {
   "cell_type": "markdown",
   "id": "6fc8e991",
   "metadata": {},
   "source": [
    "### Scaling the features\n",
    "\n",
    "To actually scale our training and test sets, we need to take similar steps as above. First, let's initialize the scaler with the `X_train` data, and make it fit and transform the `X_train` data first:"
   ]
  },
  {
   "cell_type": "code",
   "execution_count": 492,
   "id": "d8cc71fd",
   "metadata": {},
   "outputs": [],
   "source": [
    "scaler = StandardScaler()\n",
    "\n",
    "X_train = scaler.fit_transform(X_train)"
   ]
  },
  {
   "cell_type": "markdown",
   "id": "c6bd3552",
   "metadata": {},
   "source": [
    "Now, with the scaler fitted to the `X_train` data, we need to transform the `X_test` data:"
   ]
  },
  {
   "cell_type": "code",
   "execution_count": 493,
   "id": "2d370ebc",
   "metadata": {},
   "outputs": [],
   "source": [
    "X_test = scaler.transform(X_test)"
   ]
  },
  {
   "cell_type": "markdown",
   "id": "f76f69fd",
   "metadata": {},
   "source": [
    "Now that the features are scaled, let's use them in our k-Nearest Neighbors algorithm. Which we'll have to first write from scratch before we try it out."
   ]
  },
  {
   "cell_type": "markdown",
   "id": "25aea98e",
   "metadata": {},
   "source": [
    "## k-NN from scratch"
   ]
  },
  {
   "cell_type": "markdown",
   "id": "70c9ffc4",
   "metadata": {},
   "source": [
    "Now that we have that out of the way, let's implement our own k-NN. To implement the algorithm, we need two methods:\n",
    "\n",
    "* `fit`, which will set the features (X) and labels (y) to the model's memory\n",
    "* `predict`, which will take a vector of out-of-sample data and return a prediction\n",
    "\n",
    "Let's start with the simpler ones:"
   ]
  },
  {
   "cell_type": "code",
   "execution_count": 402,
   "id": "cdcdbfaa",
   "metadata": {},
   "outputs": [],
   "source": [
    "class KNN:\n",
    "  def __init__(self, k=5):\n",
    "    self.k = k\n",
    "\n",
    "  def fit(self, X, y):\n",
    "    self.X_train = X\n",
    "    self.y_train = y"
   ]
  },
  {
   "cell_type": "markdown",
   "id": "96161789",
   "metadata": {},
   "source": [
    "In this case, fitting the X and y just means setting them as the object's attributes. \n",
    "\n",
    "Let's look at the `predict` method:"
   ]
  },
  {
   "cell_type": "code",
   "execution_count": 531,
   "id": "9a2762bd",
   "metadata": {},
   "outputs": [],
   "source": [
    "def predict(self, X):\n",
    "    predictions = [self._predict(x) for x in X]\n",
    "    return predictions\n",
    "\n",
    "def _predict(self, x):\n",
    "    distances = [euclidean_distance(x, x_train) for x_train in self.X_train]\n",
    "\n",
    "    k_indices = np.argsort(distances)[:self.k]\n",
    "    k_labels = [self.y_train[i] for i in k_indices]\n",
    "\n",
    "    most_common = Counter(k_labels).most_common()\n",
    "    return most_common[0][0]"
   ]
  },
  {
   "cell_type": "markdown",
   "id": "45a1d12a",
   "metadata": {},
   "source": [
    "The `predict` method essentially loops through each of the observations from the X n-dimensional array and calls `_predit` for every subarray. Within `_predict` we calculate the Euclidean distances for every array pair: the argument (`X`) and each array of the training data (`X_train`). Once we have the distances, we use `np.argsort` [[docs](https://numpy.org/doc/stable/reference/generated/numpy.argsort.html)] to get the indices of the sorted distances. `np.argsort` will basically perform a sort on the distances, but return the indices of the elements in the sorted array, instead of the array itself.\n",
    "\n",
    "Using the indices we will take the matching target variables from the `y_train` - in other words, by having the indices of the closest distances from the `X_train` set we will use their matching target labels from `y_train`. This is how the `X_train` input features become a single target class - by fetching the corresponding `y_train` label.\n",
    "\n",
    "Once we have the `k_labels`, we just find the most common label of the bunch. This is the voting component of the k-NN algorithm. By finding the most common label we basically say: from the K nearest neighbors, the most common is Z, so we return Z as the predicted class.\n",
    "\n",
    "Here's the whole k-NN algorithm:"
   ]
  },
  {
   "cell_type": "code",
   "execution_count": 530,
   "id": "eac92a48",
   "metadata": {},
   "outputs": [],
   "source": [
    "from collections import Counter\n",
    "\n",
    "def euclidean_distance(a, b):\n",
    "  return np.sqrt(np.sum((a-b)**2))\n",
    "\n",
    "class KNN:\n",
    "  def __init__(self, k=5):\n",
    "    self.k = k\n",
    "\n",
    "  def fit(self, X, y):\n",
    "    self.X_train = X\n",
    "    self.y_train = y\n",
    "    \n",
    "  def predict(self, X):\n",
    "    predictions = [self._predict(x) for x in X]\n",
    "    return np.array(predictions)\n",
    "\n",
    "  def _predict(self, x):\n",
    "    distances = [euclidean_distance(x, x_train) for x_train in self.X_train]\n",
    "\n",
    "    k_indices = np.argsort(distances)[:self.k]\n",
    "    k_labels = [self.y_train[i] for i in k_indices]\n",
    "\n",
    "    most_common = Counter(k_labels).most_common()\n",
    "    return most_common[0][0]"
   ]
  },
  {
   "cell_type": "markdown",
   "id": "ddaf49d1",
   "metadata": {},
   "source": [
    "Let's put it into use, using the `X_train_scaled` and `X_test_scaled`:"
   ]
  },
  {
   "cell_type": "code",
   "execution_count": 495,
   "id": "3fceae79",
   "metadata": {},
   "outputs": [],
   "source": [
    "clf = KNN(k=5)\n",
    "clf.fit(X_train, y_train)\n",
    "predictions = clf.predict(X_test)"
   ]
  },
  {
   "cell_type": "markdown",
   "id": "3b194b8e",
   "metadata": {},
   "source": [
    "Now we have our predictions from the k-NN algorithm, but how do we know how if our model is accurate? This is where we need to evaluate our model's performance."
   ]
  },
  {
   "cell_type": "markdown",
   "id": "44d747eb",
   "metadata": {},
   "source": [
    "## Accuracy, confusion, precision & recall\n",
    "\n",
    "Model evaluation is a really interesting topic - it's basically measuring how accurate the model is against the test data. We will look at a few different techniques here that I'd like to explore, but the list is not exhaustive as there are other methods of model evaluation as well. \n",
    "\n",
    "To evaluate the performance of the algorithm we will look at the accuracy metric and the confusion matrix of the algorithm."
   ]
  },
  {
   "cell_type": "markdown",
   "id": "463cce9f",
   "metadata": {},
   "source": [
    "### Accuracy\n",
    "\n",
    "Accuracy is the simplest approach of all. The way it works is by finding the number of correct predictions between the predictions and the targets, divided by the number of all targets. The accuracy measurement essentially finds the ratio of correctly predicted labels against all labels.\n",
    "\n",
    "In Python, the accuracy method would look like:"
   ]
  },
  {
   "cell_type": "code",
   "execution_count": 518,
   "id": "0e19fdcf",
   "metadata": {},
   "outputs": [],
   "source": [
    "def calculate_accuracy(y_true, y_pred):\n",
    "    accuracy = np.sum(y_true == y_pred) / len(y_true)\n",
    "    return accuracy"
   ]
  },
  {
   "cell_type": "markdown",
   "id": "b73ff878",
   "metadata": {},
   "source": [
    "If we take our `predictions` from above and run them against our test labels (`y_test`), we will get the accuracy of the k-NN algorithm against the test data:"
   ]
  },
  {
   "cell_type": "code",
   "execution_count": 519,
   "id": "4998c1ce",
   "metadata": {},
   "outputs": [
    {
     "data": {
      "text/plain": [
       "0.7045454545454546"
      ]
     },
     "execution_count": 519,
     "metadata": {},
     "output_type": "execute_result"
    }
   ],
   "source": [
    "calculate_accuracy(y_test, predictions)"
   ]
  },
  {
   "cell_type": "markdown",
   "id": "8be30706",
   "metadata": {},
   "source": [
    "The accuracy is quite a simple measurement, as it doesn't tell us about the potential misclassifications. In the diabetes example, with accuracy of 0.75 it means that we will end up misdiagnosing a quarter of the patients.\n",
    "\n",
    "### Confusion matrix\n",
    "\n",
    "While the accuracy metric speaks loads, for us humans in some cases a visualization goes a longer way instead of a metric. A confusion matrix is a visualization that can give us a better idea of the algorithm's performance. Let's see the confusion matrix of our k-NN algorithm:"
   ]
  },
  {
   "cell_type": "code",
   "execution_count": 498,
   "id": "60ccb9cb",
   "metadata": {},
   "outputs": [],
   "source": [
    "from sklearn.metrics import confusion_matrix\n",
    "\n",
    "cm = confusion_matrix(y_test, predictions)"
   ]
  },
  {
   "cell_type": "code",
   "execution_count": 499,
   "id": "f86cbdf5",
   "metadata": {},
   "outputs": [
    {
     "data": {
      "image/png": "[encoded data removed]",
      "text/plain": [
       "<Figure size 600x400 with 2 Axes>"
      ]
     },
     "metadata": {},
     "output_type": "display_data"
    }
   ],
   "source": [
    "import seaborn as sns\n",
    "\n",
    "# Change figure size and increase dpi for better resolution\n",
    "plt.figure(figsize=(6, 4))\n",
    "\n",
    "ax = sns.heatmap(cm, annot=True, fmt='d')\n",
    "\n",
    "# set x-axis label and ticks. \n",
    "ax.set_xlabel(\"Predicted Diagnosis\", fontsize=14, labelpad=20)\n",
    "ax.xaxis.set_ticklabels(['Negative', 'Positive'])\n",
    "\n",
    "# set y-axis label and ticks\n",
    "ax.set_ylabel(\"Actual Diagnosis\", fontsize=14, labelpad=20)\n",
    "ax.yaxis.set_ticklabels(['Negative', 'Positive'])\n",
    "\n",
    "ax.set_title(\"Confusion Matrix for the Diabetes k-NN\", fontsize=14, pad=20);"
   ]
  },
  {
   "cell_type": "markdown",
   "id": "4ae05148",
   "metadata": {},
   "source": [
    "We can see in the confusion matrix that the algorithm predicts the Negative outcomes pretty well, but there is a significant misclassification happening in the lower left quadrant. In other words, the algorithm classified 56 patients as 'Negative' (no diabetes), but the diagnosis was 'Positive' (they did get diabetes). These 56 classifications are also called false negatives.\n",
    "\n",
    "What's tricky about this stark number of false negatives is that if a doctor followed the algorithm's prediction, the correct diagnosis would be set much later with these patients, which can have long-term implications for their health. So what can we do about this? Is this a problem with our algorithm or our setup? Or a bit of both?\n",
    "\n",
    "Let's look at another few metrics to measure the algorithm's performance: precision, recall & F1 score.\n",
    "\n",
    "### Precision & recall\n",
    "\n",
    "These two are exciting metrics because they measure the positive predictive value and the algorithm's sensitivity, respectively. Another way to explain them:\n",
    "\n",
    "* Precision is the true positive predictions over the sum of the true positive and false positive predictions. It basically returns the ratio of true positive predictions over all positive predictions. Hence the name 'positive predictive value.'\n",
    "* Recall, on the other hand, is the true positive predictions over the sum of the true predictions and the false negative. The true positive and false negative predictions are, in fact, all the _correct_ predictions. So recall returns the ratio of the true predictions against the _correct_ predictions. Hence the name 'sensitivity' - it measures how many of the correct predictions the algorithm under evaluation will pick up.\n",
    "\n",
    "We can implement precision and recall using Python. But, first, we need to implement four helper functions:\n",
    "\n",
    "* `true_positive`\n",
    "* `true_negative`\n",
    "* `false_positive`\n",
    "* `false_negative`\n",
    "\n",
    "From there, we can easily implement `recall` and `precision`. So let's give it a shot. First, the helpers:"
   ]
  },
  {
   "cell_type": "code",
   "execution_count": 500,
   "id": "b05f6a31",
   "metadata": {},
   "outputs": [],
   "source": [
    "def true_positive(y_val, y_pred):\n",
    "    tp = 0\n",
    "    for pred, val in zip(y_pred, y_val):\n",
    "        if pred == 1 and val == 1:\n",
    "            tp += 1\n",
    "    return tp\n",
    "\n",
    "def true_negative(y_val, y_pred):\n",
    "    tn = 0\n",
    "    for pred, val in zip(y_pred, y_val):\n",
    "        if pred == 0 and val == 0:\n",
    "            tn += 1\n",
    "    return tn\n",
    "\n",
    "def false_positive(y_val, y_pred):\n",
    "    fp = 0\n",
    "    for pred, val in zip(y_pred, y_val):\n",
    "        if pred == 1 and val == 0:\n",
    "            fp += 1\n",
    "    return fp\n",
    "\n",
    "def false_negative(y_val, y_pred):\n",
    "    fn = 0\n",
    "    for pred, val in zip(y_pred, y_val):\n",
    "        if pred == 0 and val == 1:\n",
    "            fn += 1\n",
    "    return fn"
   ]
  },
  {
   "cell_type": "markdown",
   "id": "6e90bd0c",
   "metadata": {},
   "source": [
    "Next, the methods themselves:"
   ]
  },
  {
   "cell_type": "code",
   "execution_count": 520,
   "id": "72e7c964",
   "metadata": {},
   "outputs": [],
   "source": [
    "def calculate_precision(y_val, y_pred):\n",
    "    tp = true_positive(y_val, y_pred)\n",
    "    fp = false_positive(y_val, y_pred)\n",
    "    prec = tp / (tp+fp)\n",
    "    return prec\n",
    "\n",
    "def calculate_recall(y_val, y_pred):\n",
    "    tp = true_positive(y_val, y_pred)\n",
    "    fn = false_negative(y_val, y_pred)\n",
    "    rec = tp / (tp + fn)\n",
    "    return rec"
   ]
  },
  {
   "cell_type": "markdown",
   "id": "8923f197",
   "metadata": {},
   "source": [
    "Let's measure the `precision` and `recall` of the predictions:"
   ]
  },
  {
   "cell_type": "code",
   "execution_count": 521,
   "id": "0765beb6",
   "metadata": {},
   "outputs": [
    {
     "name": "stdout",
     "output_type": "stream",
     "text": [
      "Precision: 0.5980392156862745\n",
      "Recall: 0.5495495495495496\n"
     ]
    }
   ],
   "source": [
    "precision_scr = calculate_precision(y_test, predictions)\n",
    "recall_scr = calculate_recall(y_test, predictions)\n",
    "print(f\"Precision: {precision_scr}\")\n",
    "print(f\"Recall: {recall_scr}\")"
   ]
  },
  {
   "cell_type": "markdown",
   "id": "464f9057",
   "metadata": {},
   "source": [
    "Let's compare our implementation of precision and recall against the one from scikit-learn:"
   ]
  },
  {
   "cell_type": "code",
   "execution_count": 522,
   "id": "26155395",
   "metadata": {},
   "outputs": [
    {
     "name": "stdout",
     "output_type": "stream",
     "text": [
      "scikit-learn's Precision: 0.5980392156862745\n",
      "scikit-learn's Recall: 0.5495495495495496\n"
     ]
    }
   ],
   "source": [
    "from sklearn.metrics import precision_score, recall_score\n",
    "\n",
    "print(f\"scikit-learn's Precision: {precision_score(y_test, predictions)}\")\n",
    "print(f\"scikit-learn's Recall: {recall_score(y_test, predictions)}\")"
   ]
  },
  {
   "cell_type": "markdown",
   "id": "1f91d90a",
   "metadata": {},
   "source": [
    "Nice, we got the same scores. You can see that our precision and recall scores are pretty low (0 is worst, 1 is best). This means that with our feature setup and the algorithm we chose, k Nearest Neighbors is not the best choice for the problem. We can conclude that because the algorithm's ability not to label negative samples as positive (precision) and its ability to find all the positive samples (recall) are quite low.\n",
    "\n",
    "Now that we have the precision and recall, to wrap up our assessment of the algorithm we can also apply the F1 score."
   ]
  },
  {
   "cell_type": "markdown",
   "id": "9fd6106b",
   "metadata": {},
   "source": [
    "### F1 Score\n",
    "\n",
    "The F1 score measures the model’s balanced ability to capture positive cases (recall) **and** be accurate with the cases it does capture (precision). Mathematically explained, it takes the recall and precision metrics and it calculates their harmonic mean:\n",
    "\n",
    "```\n",
    "F1 = 2 * (precision * recall) / (precision + recall)\n",
    "```\n",
    "\n",
    "When compared to the accuracy score, the F1 score is useful because it has both recall and precision captured into it. For contrast, the accuracy score only looks at the recall, ignoring the precision. This bi-modal nature of the F1 score makes it a popular choice of evaluation metric in the ML community.\n",
    "\n",
    "As you can see above the formula is quite simple, but let's implement it for ourselves and test it against our precision and recall metrics:"
   ]
  },
  {
   "cell_type": "code",
   "execution_count": 523,
   "id": "f90038dd",
   "metadata": {},
   "outputs": [],
   "source": [
    "def calculate_f1(precision, recall):\n",
    "    f1 = 2 * (precision * recall) / (precision + recall)\n",
    "    return f1"
   ]
  },
  {
   "cell_type": "code",
   "execution_count": 534,
   "id": "9c0d26e0",
   "metadata": {},
   "outputs": [
    {
     "data": {
      "text/plain": [
       "0.5727699530516432"
      ]
     },
     "execution_count": 534,
     "metadata": {},
     "output_type": "execute_result"
    }
   ],
   "source": [
    "f1_scr = calculate_f1(precision_scr, recall_scr)\n",
    "f1_scr"
   ]
  },
  {
   "cell_type": "markdown",
   "id": "30bb5a13",
   "metadata": {},
   "source": [
    "Now, 0.59259 doesn't tell us much as we need a good idea of how to interpret it. From what I was able to find online, the best way to interpret F1 is this table:\n",
    "\n",
    "\n",
    "| F1 score | Interpretation |\n",
    "|----------|----------------|\n",
    "| > 0.9    | Very good      |\n",
    "| 0.8 - 0.9 | Good           |\n",
    "| 0.5 - 0.8 | OK             |\n",
    "| < 0.5    | Not good       |\n"
   ]
  },
  {
   "cell_type": "markdown",
   "id": "6b9f21b1",
   "metadata": {},
   "source": [
    "If we'd follow the above table, then our k-NN algorithm is doing barely OK. Which means we should probably look into other algorithms or models to predict diabetes in patients using the available dataset."
   ]
  },
  {
   "cell_type": "markdown",
   "id": "c6d2d946",
   "metadata": {},
   "source": [
    "## Comparing to scikit-learn\n",
    "\n",
    "Out of curiosity, the last thing that I wanted to look at is to compare our implementation of k-NN with the one from scikit-learn. The comparison will only confirm whether our implementation is correct, assuming we get the same metrics. Surely, the scikit-learn implementation is better as it will perform better with larger datasets. Still, for our 700-observations-large dataset both will do the trick.\n",
    "\n",
    "Back to the comparison:"
   ]
  },
  {
   "cell_type": "code",
   "execution_count": 527,
   "id": "07c4184f",
   "metadata": {},
   "outputs": [
    {
     "name": "stderr",
     "output_type": "stream",
     "text": [
      "/Users/ie/opt/anaconda3/lib/python3.9/site-packages/sklearn/neighbors/_classification.py:228: FutureWarning: Unlike other reduction functions (e.g. `skew`, `kurtosis`), the default behavior of `mode` typically preserves the axis it acts along. In SciPy 1.11.0, this behavior will change: the default value of `keepdims` will become False, the `axis` over which the statistic is taken will be eliminated, and the value None will no longer be accepted. Set `keepdims` to True or False to avoid this warning.\n",
      "  mode, _ = stats.mode(_y[neigh_ind, k], axis=1)\n"
     ]
    }
   ],
   "source": [
    "from sklearn.neighbors import KNeighborsClassifier\n",
    "\n",
    "knn = KNeighborsClassifier(n_neighbors=5)\n",
    "knn.fit(X_train, y_train)\n",
    "\n",
    "predictions = knn.predict(X_test)"
   ]
  },
  {
   "cell_type": "markdown",
   "id": "d3653cb2",
   "metadata": {},
   "source": [
    "Now that we have the predictions of the `KNeighborsClassifier`, let's see the precision, recall and F1 scores:"
   ]
  },
  {
   "cell_type": "code",
   "execution_count": 529,
   "id": "6fc83b2d",
   "metadata": {},
   "outputs": [
    {
     "name": "stdout",
     "output_type": "stream",
     "text": [
      "Precision: 0.5980392156862745\n",
      "Recall: 0.5495495495495496\n",
      "F1: 0.5727699530516432\n"
     ]
    }
   ],
   "source": [
    "sk_precision = calculate_precision(y_test, predictions)\n",
    "sk_recall = calculate_recall(y_test, predictions)\n",
    "sk_f1_score = calculate_f1(precision, recall)\n",
    "\n",
    "print(f\"Precision: {sk_precision}\")\n",
    "print(f\"Recall: {sk_recall}\")\n",
    "print(f\"F1: {sk_f1_score}\")"
   ]
  },
  {
   "cell_type": "markdown",
   "id": "994f1637",
   "metadata": {},
   "source": [
    "Let's compare them to our scores:"
   ]
  },
  {
   "cell_type": "code",
   "execution_count": 535,
   "id": "123c4db5",
   "metadata": {},
   "outputs": [
    {
     "name": "stdout",
     "output_type": "stream",
     "text": [
      "Precision same? True\n",
      "Recall same? True\n",
      "F1 same? True\n"
     ]
    }
   ],
   "source": [
    "print(f\"Precision same? {sk_precision == precision_scr}\")\n",
    "print(f\"Recall same? {sk_recall == recall_scr}\")\n",
    "print(f\"F1 same? {sk_f1_score == f1_scr}\")"
   ]
  },
  {
   "cell_type": "markdown",
   "id": "d2445093",
   "metadata": {},
   "source": [
    "Voilà! Our k-NN implementation has the same recall and precision metrics as the one from sklearn. That's pretty cool to see, as it confirms that we have implemented our k-NN well!"
   ]
  },
  {
   "cell_type": "markdown",
   "id": "2a42da51",
   "metadata": {},
   "source": [
    "-------"
   ]
  },
  {
   "cell_type": "markdown",
   "id": "2b5a9717",
   "metadata": {},
   "source": [
    "Some references I used while writing this post:\n",
    "\n",
    "* https://www.kaggle.com/code/ajinkyaabhang/implementing-acc-precision-recall-f1-from-scratch\n",
    "* https://www.kaggle.com/discussions/questions-and-answers/350350\n",
    "* https://en.wikipedia.org/wiki/Instance-based_learning\n",
    "* https://en.wikipedia.org/wiki/Lazy_learning\n",
    "* https://proclusacademy.com/blog/practical/confusion-matrix-accuracy-sklearn-seaborn/\n",
    "* https://en.wikipedia.org/wiki/Precision_and_recall\n",
    "* https://scikit-learn.org/stable/modules/generated/sklearn.metrics.recall_score.html\n",
    "* https://scikit-learn.org/stable/modules/generated/sklearn.metrics.f1_score.html\n",
    "* https://scikit-learn.org/stable/modules/generated/sklearn.neighbors.KNeighborsClassifier.html\n",
    "* https://stephenallwright.com/interpret-f1-score/ "
   ]
  },
  {
   "cell_type": "code",
   "execution_count": null,
   "id": "b1b95288",
   "metadata": {},
   "outputs": [],
   "source": []
  }
 ],
 "metadata": {
  "kernelspec": {
   "display_name": "Python 3 (ipykernel)",
   "language": "python",
   "name": "python3"
  },
  "language_info": {
   "codemirror_mode": {
    "name": "ipython",
    "version": 3
   },
   "file_extension": ".py",
   "mimetype": "text/x-python",
   "name": "python",
   "nbconvert_exporter": "python",
   "pygments_lexer": "ipython3",
   "version": "3.9.13"
  }
 },
 "nbformat": 4,
 "nbformat_minor": 5
}
